{
 "cells": [
  {
   "cell_type": "code",
   "execution_count": 1,
   "id": "5a810da4-b579-40fd-ace8-8ed6cfcc5b01",
   "metadata": {},
   "outputs": [
    {
     "name": "stderr",
     "output_type": "stream",
     "text": [
      "2024-11-05 01:05:21.961110: E external/local_xla/xla/stream_executor/cuda/cuda_fft.cc:485] Unable to register cuFFT factory: Attempting to register factory for plugin cuFFT when one has already been registered\n",
      "2024-11-05 01:05:21.979567: E external/local_xla/xla/stream_executor/cuda/cuda_dnn.cc:8454] Unable to register cuDNN factory: Attempting to register factory for plugin cuDNN when one has already been registered\n",
      "2024-11-05 01:05:21.985191: E external/local_xla/xla/stream_executor/cuda/cuda_blas.cc:1452] Unable to register cuBLAS factory: Attempting to register factory for plugin cuBLAS when one has already been registered\n",
      "2024-11-05 01:05:22.000338: I tensorflow/core/platform/cpu_feature_guard.cc:210] This TensorFlow binary is optimized to use available CPU instructions in performance-critical operations.\n",
      "To enable the following instructions: AVX2 FMA, in other operations, rebuild TensorFlow with the appropriate compiler flags.\n"
     ]
    }
   ],
   "source": [
    "import tensorflow as tf\n",
    "import torch\n",
    "import os\n",
    "import cv2\n",
    "import numpy as np\n",
    "from tqdm import tqdm\n",
    "from tensorflow.keras.preprocessing.image import img_to_array, array_to_img\n"
   ]
  },
  {
   "cell_type": "code",
   "execution_count": 2,
   "id": "f67ebf8b-9836-45ea-97d5-e7b9c8bb280d",
   "metadata": {},
   "outputs": [],
   "source": [
    "import os\n",
    "os.environ[\"CUDA_VISIBLE_DEVICES\"] = \"2\"  # Replace \"0\" with the appropriate GPU index\n"
   ]
  },
  {
   "cell_type": "code",
   "execution_count": 6,
   "id": "e8a8acf9-0bda-460b-ab5d-64b5522598ea",
   "metadata": {},
   "outputs": [],
   "source": [
    "def augment_image(image):\n",
    "    # Random horizontal flip\n",
    "    image = tf.image.random_flip_left_right(image)\n",
    "\n",
    "    # Random rotation\n",
    "    image = tf.image.rot90(image, k=np.random.randint(0, 4))\n",
    "\n",
    "    # Random brightness\n",
    "    image = tf.image.random_brightness(image, 0.2)\n",
    "\n",
    "    # Random contrast\n",
    "    image = tf.image.random_contrast(image, 0.7, 1.3)\n",
    "\n",
    "    # Convert back to numpy\n",
    "    image = np.array(image)\n",
    "\n",
    "    # Adding Gaussian noise\n",
    "    noise = np.random.normal(0, 0.05, image.shape)\n",
    "    image = np.clip(image + noise, 0, 1)\n",
    "\n",
    "    return image\n",
    "\n",
    "\n",
    "\n"
   ]
  },
  {
   "cell_type": "code",
   "execution_count": 4,
   "id": "35e39e3e-911d-433b-84e9-bac9a271951e",
   "metadata": {},
   "outputs": [],
   "source": [
    "# Define paths\n",
    "input_folder_low = 'newdataset/train/low'\n",
    "input_folder_high = 'newdataset/train/high'\n",
    "output_folder_low = 'newdataset/train/low'\n",
    "output_folder_high = 'newdataset/train/high'\n",
    "\n",
    "# Create output directories if they don't exist\n",
    "#os.makedirs(output_folder_low, exist_ok=True)\n",
    "#os.makedirs(output_folder_high, exist_ok=True)"
   ]
  },
  {
   "cell_type": "code",
   "execution_count": 7,
   "id": "cd541bf4-6935-46e8-989c-7486e3276746",
   "metadata": {},
   "outputs": [
    {
     "name": "stderr",
     "output_type": "stream",
     "text": [
      " 80%|████████████████████████████████████████████████████████████████▍                | 648/814 [00:56<00:13, 12.10it/s]"
     ]
    },
    {
     "name": "stdout",
     "output_type": "stream",
     "text": [
      "Error: Could not load image at path: newdataset/train/low/desktop.ini\n"
     ]
    },
    {
     "name": "stderr",
     "output_type": "stream",
     "text": [
      "100%|█████████████████████████████████████████████████████████████████████████████████| 814/814 [01:15<00:00, 10.83it/s]\n",
      " 46%|█████████████████████████████████████                                            | 372/814 [00:31<00:38, 11.63it/s]\n",
      "100%|█████████████████████████████████████████████████████████████████████████████████| 652/652 [01:10<00:00,  9.21it/s]\n",
      "100%|█████████████████████████████████████████████████████████████████████████████████| 652/652 [01:10<00:00,  9.23it/s]\n",
      "  7%|█████▍                                                                            | 43/652 [00:04<01:10,  8.63it/s]\n"
     ]
    }
   ],
   "source": [
    "def load_and_augment_images(input_folder, output_folder, target_count):\n",
    "    image_files = os.listdir(input_folder)\n",
    "    count = 0\n",
    "    existing_images = len(image_files)\n",
    "\n",
    "    # Loop until we have the desired number of augmented images\n",
    "    while count < target_count:\n",
    "        for img_file in tqdm(image_files):\n",
    "            img_path = os.path.join(input_folder, img_file)\n",
    "            img = cv2.imread(img_path)\n",
    "            if img is None:\n",
    "                print(f\"Error: Could not load image at path: {img_path}\")\n",
    "                continue  # Skip this image if it couldn't be loaded\n",
    "\n",
    "            img = cv2.cvtColor(img, cv2.COLOR_BGR2RGB)  # Convert BGR to RGB\n",
    "\n",
    "            # Normalize image to [0, 1] range\n",
    "            img = img / 255.0\n",
    "\n",
    "            # Augment the image\n",
    "            augmented_img = augment_image(img)\n",
    "\n",
    "            # Convert back to [0, 255] for saving\n",
    "            augmented_img = (augmented_img * 255).astype(np.uint8)\n",
    "\n",
    "            # Save augmented image to the output folder\n",
    "            output_path = os.path.join(output_folder, f\"faugr_{count}.jpg\")\n",
    "            cv2.imwrite(output_path, cv2.cvtColor(augmented_img, cv2.COLOR_RGB2BGR))\n",
    "\n",
    "            count += 1\n",
    "            if count >= target_count:\n",
    "                break\n",
    "\n",
    "# Augment low water level images\n",
    "load_and_augment_images(input_folder_low, output_folder_low, target_count=1186)\n",
    "\n",
    "# Augment high water level images\n",
    "load_and_augment_images(input_folder_high, output_folder_high, target_count=1348)"
   ]
  },
  {
   "cell_type": "code",
   "execution_count": null,
   "id": "fe55890b-1e9a-4676-834e-21348e1c7607",
   "metadata": {},
   "outputs": [],
   "source": []
  }
 ],
 "metadata": {
  "kernelspec": {
   "display_name": "Python 3 (ipykernel)",
   "language": "python",
   "name": "python3"
  },
  "language_info": {
   "codemirror_mode": {
    "name": "ipython",
    "version": 3
   },
   "file_extension": ".py",
   "mimetype": "text/x-python",
   "name": "python",
   "nbconvert_exporter": "python",
   "pygments_lexer": "ipython3",
   "version": "3.9.19"
  }
 },
 "nbformat": 4,
 "nbformat_minor": 5
}
